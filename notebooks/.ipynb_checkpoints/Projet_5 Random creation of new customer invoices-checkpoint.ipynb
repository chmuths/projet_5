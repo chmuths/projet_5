{
 "cells": [
  {
   "cell_type": "code",
   "execution_count": 1,
   "metadata": {
    "collapsed": true
   },
   "outputs": [],
   "source": [
    "# Required libraries\n",
    "import datetime as dt\n",
    "import matplotlib.pyplot as plt\n",
    "\n",
    "import os\n",
    "import time\n",
    "import numpy as np\n",
    "import pandas as pd\n",
    "\n",
    "import random"
   ]
  },
  {
   "cell_type": "code",
   "execution_count": null,
   "metadata": {
    "collapsed": true
   },
   "outputs": [],
   "source": [
    "# Constants\n",
    "my_data = \"../data\""
   ]
  },
  {
   "cell_type": "code",
   "execution_count": 2,
   "metadata": {
    "collapsed": false
   },
   "outputs": [
    {
     "name": "stdout",
     "output_type": "stream",
     "text": [
      "(541909, 8)\n"
     ]
    }
   ],
   "source": [
    "# Load data into Pandas dataframe\n",
    "datafile = \"Online Retail.xlsx\"\n",
    "full_path = os.path.join(my_data, datafile)\n",
    "df_sales = pd.read_excel(full_path)\n",
    "print(df_sales.shape)"
   ]
  },
  {
   "cell_type": "markdown",
   "metadata": {},
   "source": [
    "# Create list of objects"
   ]
  },
  {
   "cell_type": "markdown",
   "metadata": {},
   "source": [
    "## Create list of items"
   ]
  },
  {
   "cell_type": "code",
   "execution_count": 3,
   "metadata": {
    "collapsed": false
   },
   "outputs": [
    {
     "data": {
      "text/html": [
       "<div>\n",
       "<table border=\"1\" class=\"dataframe\">\n",
       "  <thead>\n",
       "    <tr style=\"text-align: right;\">\n",
       "      <th></th>\n",
       "      <th>StockCode</th>\n",
       "      <th>Description</th>\n",
       "      <th>UnitPrice</th>\n",
       "    </tr>\n",
       "  </thead>\n",
       "  <tbody>\n",
       "    <tr>\n",
       "      <th>0</th>\n",
       "      <td>85123A</td>\n",
       "      <td>WHITE HANGING HEART T-LIGHT HOLDER</td>\n",
       "      <td>2.55</td>\n",
       "    </tr>\n",
       "    <tr>\n",
       "      <th>1</th>\n",
       "      <td>71053</td>\n",
       "      <td>WHITE METAL LANTERN</td>\n",
       "      <td>3.39</td>\n",
       "    </tr>\n",
       "    <tr>\n",
       "      <th>2</th>\n",
       "      <td>84406B</td>\n",
       "      <td>CREAM CUPID HEARTS COAT HANGER</td>\n",
       "      <td>2.75</td>\n",
       "    </tr>\n",
       "    <tr>\n",
       "      <th>3</th>\n",
       "      <td>84029G</td>\n",
       "      <td>KNITTED UNION FLAG HOT WATER BOTTLE</td>\n",
       "      <td>3.39</td>\n",
       "    </tr>\n",
       "    <tr>\n",
       "      <th>4</th>\n",
       "      <td>84029E</td>\n",
       "      <td>RED WOOLLY HOTTIE WHITE HEART.</td>\n",
       "      <td>3.39</td>\n",
       "    </tr>\n",
       "  </tbody>\n",
       "</table>\n",
       "</div>"
      ],
      "text/plain": [
       "  StockCode                          Description  UnitPrice\n",
       "0    85123A   WHITE HANGING HEART T-LIGHT HOLDER       2.55\n",
       "1     71053                  WHITE METAL LANTERN       3.39\n",
       "2    84406B       CREAM CUPID HEARTS COAT HANGER       2.75\n",
       "3    84029G  KNITTED UNION FLAG HOT WATER BOTTLE       3.39\n",
       "4    84029E       RED WOOLLY HOTTIE WHITE HEART.       3.39"
      ]
     },
     "execution_count": 3,
     "metadata": {},
     "output_type": "execute_result"
    }
   ],
   "source": [
    "# Real item ID start with a number, remove other ones.\n",
    "df_sales = df_sales[df_sales['StockCode'].astype(str).str.slice(0,1).str.isnumeric()]\n",
    "\n",
    "# Keep only positive items and prices\n",
    "df_sales = df_sales[df_sales['Quantity'] > 0]\n",
    "df_sales = df_sales[df_sales['UnitPrice'] > 0]\n",
    "df_items = df_sales[['StockCode', 'Description', 'UnitPrice']].drop_duplicates().reset_index(drop=True)\n",
    "df_items.head()"
   ]
  },
  {
   "cell_type": "markdown",
   "metadata": {},
   "source": [
    "## Create a frequency table of ordered items"
   ]
  },
  {
   "cell_type": "markdown",
   "metadata": {},
   "source": [
    "This table will be used to randomly select items to be put in a customer sales ordre, to have a realistic sampling."
   ]
  },
  {
   "cell_type": "code",
   "execution_count": 4,
   "metadata": {
    "collapsed": false
   },
   "outputs": [
    {
     "data": {
      "text/html": [
       "<div>\n",
       "<table border=\"1\" class=\"dataframe\">\n",
       "  <thead>\n",
       "    <tr style=\"text-align: right;\">\n",
       "      <th></th>\n",
       "      <th>StockCode</th>\n",
       "      <th>Occurences</th>\n",
       "    </tr>\n",
       "  </thead>\n",
       "  <tbody>\n",
       "    <tr>\n",
       "      <th>0</th>\n",
       "      <td>10002</td>\n",
       "      <td>71</td>\n",
       "    </tr>\n",
       "    <tr>\n",
       "      <th>1</th>\n",
       "      <td>10080</td>\n",
       "      <td>22</td>\n",
       "    </tr>\n",
       "    <tr>\n",
       "      <th>2</th>\n",
       "      <td>10120</td>\n",
       "      <td>30</td>\n",
       "    </tr>\n",
       "    <tr>\n",
       "      <th>3</th>\n",
       "      <td>10125</td>\n",
       "      <td>94</td>\n",
       "    </tr>\n",
       "    <tr>\n",
       "      <th>4</th>\n",
       "      <td>10133</td>\n",
       "      <td>198</td>\n",
       "    </tr>\n",
       "  </tbody>\n",
       "</table>\n",
       "</div>"
      ],
      "text/plain": [
       "  StockCode  Occurences\n",
       "0     10002          71\n",
       "1     10080          22\n",
       "2     10120          30\n",
       "3     10125          94\n",
       "4     10133         198"
      ]
     },
     "execution_count": 4,
     "metadata": {},
     "output_type": "execute_result"
    }
   ],
   "source": [
    "# Create items frequency table\n",
    "df_items_frequency = df_sales[['StockCode','Description']].groupby('StockCode').count().reset_index()\n",
    "df_items_frequency = df_items_frequency.rename(index=str, columns={'Description': 'Occurences'})\n",
    "df_items_frequency.head()"
   ]
  },
  {
   "cell_type": "markdown",
   "metadata": {},
   "source": [
    "## Create a frequency table of quantities"
   ]
  },
  {
   "cell_type": "code",
   "execution_count": 5,
   "metadata": {
    "collapsed": false
   },
   "outputs": [
    {
     "data": {
      "text/html": [
       "<div>\n",
       "<table border=\"1\" class=\"dataframe\">\n",
       "  <thead>\n",
       "    <tr style=\"text-align: right;\">\n",
       "      <th></th>\n",
       "      <th>Quantity</th>\n",
       "      <th>Occurences</th>\n",
       "    </tr>\n",
       "  </thead>\n",
       "  <tbody>\n",
       "    <tr>\n",
       "      <th>0</th>\n",
       "      <td>1</td>\n",
       "      <td>146369</td>\n",
       "    </tr>\n",
       "    <tr>\n",
       "      <th>1</th>\n",
       "      <td>2</td>\n",
       "      <td>81363</td>\n",
       "    </tr>\n",
       "    <tr>\n",
       "      <th>2</th>\n",
       "      <td>3</td>\n",
       "      <td>36825</td>\n",
       "    </tr>\n",
       "    <tr>\n",
       "      <th>3</th>\n",
       "      <td>4</td>\n",
       "      <td>38328</td>\n",
       "    </tr>\n",
       "    <tr>\n",
       "      <th>4</th>\n",
       "      <td>5</td>\n",
       "      <td>11651</td>\n",
       "    </tr>\n",
       "  </tbody>\n",
       "</table>\n",
       "</div>"
      ],
      "text/plain": [
       "   Quantity  Occurences\n",
       "0         1      146369\n",
       "1         2       81363\n",
       "2         3       36825\n",
       "3         4       38328\n",
       "4         5       11651"
      ]
     },
     "execution_count": 5,
     "metadata": {},
     "output_type": "execute_result"
    }
   ],
   "source": [
    "# Create quantities frequency table\n",
    "df_qty_frequency = df_sales[['Quantity','Description']].groupby('Quantity').count().reset_index()\n",
    "df_qty_frequency = df_qty_frequency.rename(index=str, columns={'Description': 'Occurences'})\n",
    "df_qty_frequency.head()"
   ]
  },
  {
   "cell_type": "markdown",
   "metadata": {},
   "source": [
    "## Create a list of dummy customers"
   ]
  },
  {
   "cell_type": "code",
   "execution_count": 6,
   "metadata": {
    "collapsed": false
   },
   "outputs": [],
   "source": [
    "customers = []\n",
    "for customer in range(1,30):\n",
    "    customers = customers + ['customer' + str(customer)]\n",
    "\n"
   ]
  },
  {
   "cell_type": "markdown",
   "metadata": {},
   "source": [
    "## Create a distribution of the number of lines in an order"
   ]
  },
  {
   "cell_type": "markdown",
   "metadata": {},
   "source": [
    "This distribution is used as a weight to randomly select the number of lines a new order should have"
   ]
  },
  {
   "cell_type": "code",
   "execution_count": 7,
   "metadata": {
    "collapsed": false
   },
   "outputs": [
    {
     "data": {
      "text/html": [
       "<div>\n",
       "<table border=\"1\" class=\"dataframe\">\n",
       "  <thead>\n",
       "    <tr style=\"text-align: right;\">\n",
       "      <th></th>\n",
       "      <th>Lines</th>\n",
       "      <th>Occurences</th>\n",
       "    </tr>\n",
       "  </thead>\n",
       "  <tbody>\n",
       "    <tr>\n",
       "      <th>0</th>\n",
       "      <td>1</td>\n",
       "      <td>1492</td>\n",
       "    </tr>\n",
       "    <tr>\n",
       "      <th>1</th>\n",
       "      <td>2</td>\n",
       "      <td>816</td>\n",
       "    </tr>\n",
       "    <tr>\n",
       "      <th>2</th>\n",
       "      <td>3</td>\n",
       "      <td>694</td>\n",
       "    </tr>\n",
       "    <tr>\n",
       "      <th>3</th>\n",
       "      <td>4</td>\n",
       "      <td>676</td>\n",
       "    </tr>\n",
       "    <tr>\n",
       "      <th>4</th>\n",
       "      <td>5</td>\n",
       "      <td>669</td>\n",
       "    </tr>\n",
       "    <tr>\n",
       "      <th>5</th>\n",
       "      <td>6</td>\n",
       "      <td>618</td>\n",
       "    </tr>\n",
       "    <tr>\n",
       "      <th>6</th>\n",
       "      <td>7</td>\n",
       "      <td>597</td>\n",
       "    </tr>\n",
       "    <tr>\n",
       "      <th>7</th>\n",
       "      <td>8</td>\n",
       "      <td>600</td>\n",
       "    </tr>\n",
       "    <tr>\n",
       "      <th>8</th>\n",
       "      <td>9</td>\n",
       "      <td>624</td>\n",
       "    </tr>\n",
       "    <tr>\n",
       "      <th>9</th>\n",
       "      <td>10</td>\n",
       "      <td>542</td>\n",
       "    </tr>\n",
       "  </tbody>\n",
       "</table>\n",
       "</div>"
      ],
      "text/plain": [
       "   Lines  Occurences\n",
       "0      1        1492\n",
       "1      2         816\n",
       "2      3         694\n",
       "3      4         676\n",
       "4      5         669\n",
       "5      6         618\n",
       "6      7         597\n",
       "7      8         600\n",
       "8      9         624\n",
       "9     10         542"
      ]
     },
     "execution_count": 7,
     "metadata": {},
     "output_type": "execute_result"
    }
   ],
   "source": [
    "# Get number of invoice lines\n",
    "df_order_lines = df_sales[['InvoiceNo','StockCode','Description']].groupby('InvoiceNo').count().reset_index(drop=True)\n",
    "\n",
    "# Get number of invoices having the same number of lines\n",
    "df_order_histo = df_order_lines.groupby('StockCode').count().reset_index()\n",
    "\n",
    "df_order_histo = df_order_histo.rename(index=str, columns={'StockCode': 'Lines', 'Description': 'Occurences'})\n",
    "\n",
    "df_order_histo.head(10)"
   ]
  },
  {
   "cell_type": "code",
   "execution_count": 8,
   "metadata": {
    "collapsed": false
   },
   "outputs": [],
   "source": [
    "# Empty the sales dataframe\n",
    "df_sales = df_sales.loc[0:-1,]"
   ]
  },
  {
   "cell_type": "code",
   "execution_count": 9,
   "metadata": {
    "collapsed": false
   },
   "outputs": [
    {
     "name": "stdout",
     "output_type": "stream",
     "text": [
      "Customer customer25 - date 2018-04-19 - lines 4\n",
      "Customer customer28 - date 2018-05-15 - lines 3\n",
      "Customer customer21 - date 2018-08-28 - lines 3\n",
      "Customer customer18 - date 2018-03-26 - lines 35\n",
      "Customer customer24 - date 2018-02-02 - lines 22\n",
      "Customer customer27 - date 2018-02-21 - lines 15\n",
      "Customer customer2 - date 2018-08-31 - lines 3\n",
      "Customer customer3 - date 2018-09-28 - lines 32\n",
      "Customer customer7 - date 2018-08-29 - lines 32\n",
      "Customer customer24 - date 2018-03-17 - lines 2\n",
      "Customer customer19 - date 2018-12-21 - lines 9\n",
      "Customer customer1 - date 2018-05-16 - lines 15\n",
      "Customer customer22 - date 2018-02-22 - lines 25\n",
      "Customer customer24 - date 2018-03-18 - lines 55\n",
      "Customer customer21 - date 2018-09-18 - lines 1\n",
      "Customer customer21 - date 2018-03-07 - lines 3\n",
      "Customer customer16 - date 2018-08-02 - lines 4\n",
      "Customer customer20 - date 2018-05-08 - lines 5\n",
      "Customer customer5 - date 2018-06-09 - lines 20\n",
      "Customer customer2 - date 2018-11-04 - lines 25\n",
      "Customer customer3 - date 2018-07-28 - lines 15\n",
      "Customer customer27 - date 2018-02-13 - lines 29\n",
      "Customer customer2 - date 2018-10-27 - lines 28\n",
      "Customer customer24 - date 2018-05-21 - lines 17\n",
      "Customer customer19 - date 2018-03-05 - lines 14\n",
      "Customer customer6 - date 2018-11-13 - lines 59\n",
      "Customer customer2 - date 2018-11-24 - lines 19\n",
      "Customer customer28 - date 2018-01-25 - lines 25\n",
      "Customer customer14 - date 2018-08-27 - lines 1\n",
      "Customer customer16 - date 2018-12-10 - lines 18\n",
      "Customer customer20 - date 2018-07-19 - lines 22\n",
      "Customer customer3 - date 2018-08-17 - lines 87\n",
      "Customer customer2 - date 2018-08-21 - lines 39\n",
      "Customer customer3 - date 2018-05-03 - lines 19\n",
      "Customer customer23 - date 2018-04-16 - lines 21\n",
      "Customer customer22 - date 2018-09-01 - lines 95\n",
      "Customer customer21 - date 2018-01-19 - lines 4\n",
      "Customer customer20 - date 2018-10-22 - lines 42\n",
      "Customer customer11 - date 2018-09-24 - lines 5\n",
      "Customer customer6 - date 2018-08-14 - lines 18\n",
      "Customer customer1 - date 2018-06-03 - lines 76\n",
      "Customer customer19 - date 2018-04-23 - lines 13\n",
      "Customer customer11 - date 2018-01-27 - lines 1\n",
      "Customer customer20 - date 2018-11-05 - lines 20\n",
      "Customer customer24 - date 2018-10-02 - lines 3\n",
      "Customer customer9 - date 2018-04-25 - lines 21\n",
      "Customer customer3 - date 2018-08-10 - lines 13\n",
      "Customer customer28 - date 2018-01-21 - lines 16\n",
      "Customer customer26 - date 2018-07-25 - lines 35\n",
      "Customer customer1 - date 2018-01-15 - lines 138\n",
      "Customer customer8 - date 2018-01-11 - lines 40\n",
      "Customer customer11 - date 2018-01-11 - lines 25\n",
      "Customer customer28 - date 2018-04-16 - lines 6\n",
      "Customer customer15 - date 2018-09-08 - lines 26\n",
      "Customer customer18 - date 2018-06-09 - lines 48\n",
      "Customer customer8 - date 2018-10-19 - lines 1\n",
      "Customer customer3 - date 2018-05-17 - lines 6\n",
      "Customer customer9 - date 2018-01-20 - lines 8\n",
      "Customer customer20 - date 2018-12-24 - lines 5\n",
      "Customer customer27 - date 2018-08-04 - lines 2\n",
      "Customer customer19 - date 2018-10-23 - lines 1\n",
      "Customer customer18 - date 2018-09-24 - lines 29\n",
      "Customer customer22 - date 2018-04-05 - lines 5\n",
      "Customer customer2 - date 2018-04-15 - lines 15\n",
      "Customer customer13 - date 2018-11-17 - lines 61\n",
      "Customer customer19 - date 2018-02-01 - lines 17\n",
      "Customer customer8 - date 2018-02-03 - lines 24\n",
      "Customer customer9 - date 2018-08-10 - lines 16\n",
      "Customer customer12 - date 2018-10-20 - lines 35\n",
      "Customer customer4 - date 2018-12-01 - lines 55\n",
      "Customer customer16 - date 2018-04-27 - lines 17\n",
      "Customer customer14 - date 2018-12-02 - lines 15\n",
      "Customer customer23 - date 2018-07-10 - lines 8\n",
      "Customer customer19 - date 2018-09-28 - lines 11\n",
      "Customer customer14 - date 2018-09-27 - lines 8\n",
      "Customer customer7 - date 2018-11-22 - lines 57\n",
      "Customer customer1 - date 2018-02-15 - lines 29\n",
      "Customer customer15 - date 2018-01-14 - lines 5\n",
      "Customer customer13 - date 2018-03-21 - lines 15\n",
      "Customer customer5 - date 2018-01-09 - lines 4\n",
      "Customer customer2 - date 2018-07-21 - lines 9\n",
      "Customer customer17 - date 2018-01-02 - lines 54\n",
      "Customer customer7 - date 2018-05-17 - lines 58\n",
      "Customer customer20 - date 2018-02-22 - lines 18\n",
      "Customer customer7 - date 2018-10-24 - lines 11\n",
      "Customer customer7 - date 2018-07-11 - lines 10\n",
      "Customer customer29 - date 2018-02-02 - lines 23\n",
      "Customer customer28 - date 2018-05-05 - lines 26\n",
      "Customer customer3 - date 2018-11-18 - lines 25\n",
      "Customer customer12 - date 2018-07-11 - lines 1\n",
      "Customer customer10 - date 2018-08-25 - lines 1\n",
      "Customer customer16 - date 2018-07-12 - lines 27\n",
      "Customer customer8 - date 2018-03-04 - lines 8\n",
      "Customer customer28 - date 2018-07-13 - lines 48\n",
      "Customer customer21 - date 2018-07-11 - lines 46\n",
      "Customer customer10 - date 2018-01-06 - lines 16\n",
      "Customer customer4 - date 2018-07-19 - lines 5\n",
      "Customer customer21 - date 2018-01-29 - lines 7\n",
      "Customer customer11 - date 2018-01-29 - lines 40\n",
      "Customer customer14 - date 2018-05-29 - lines 14\n"
     ]
    }
   ],
   "source": [
    "random.seed()\n",
    "# Create several invoices\n",
    "for i in range(0,100):\n",
    "    # Choose randomly a customer, a date and a number of lines for the order\n",
    "    customer = random.choice(customers)\n",
    "    invoice_date = dt.date(2018, 1, 1) + dt.timedelta(random.random()*365)\n",
    "    nb_lines = random.choices(population=df_order_histo['Lines'], weights=df_order_histo['Occurences'])\n",
    "    invoice_id = i + 70000\n",
    "    print('Customer {0} - date {1} - lines {2}'.format(customer, invoice_date, nb_lines[0]))    \n",
    "    # Create line items for each order ID\n",
    "    for l in range(0,nb_lines[0]):\n",
    "        item = random.choices(population=df_items_frequency['StockCode'], weights=df_items_frequency['Occurences'])\n",
    "        item_desc = df_items[df_items['StockCode'] == item[0]]['Description']\n",
    "        item_price = df_items[df_items['StockCode'] == item[0]]['UnitPrice']\n",
    "        quantity = random.choices(population=df_qty_frequency['Quantity'], weights=df_qty_frequency['Occurences'])\n",
    "        \n",
    "        df_sales = df_sales.append(pd.DataFrame({'InvoiceNo': invoice_id,\n",
    "                                                 'StockCode': item,\n",
    "                                                 'Description': item_desc.iloc[0],\n",
    "                                                 'Quantity': quantity,\n",
    "                                                 'UnitPrice': item_price.iloc[0],\n",
    "                                                 'InvoiceDate': invoice_date,\n",
    "                                                 'CustomerID': customer,\n",
    "                                                 'Country': 'United Kingdom'}),\n",
    "                                   ignore_index=True)\n"
   ]
  },
  {
   "cell_type": "code",
   "execution_count": 10,
   "metadata": {
    "collapsed": false
   },
   "outputs": [],
   "source": [
    "# Convert data type\n",
    "df_sales['InvoiceNo'] = df_sales['InvoiceNo'].astype('int64')"
   ]
  },
  {
   "cell_type": "code",
   "execution_count": 11,
   "metadata": {
    "collapsed": true
   },
   "outputs": [],
   "source": [
    "# Save file to CSV\n",
    "datafile = \"datazon_random_invoices.csv\"\n",
    "full_path = os.path.join(my_data, datafile)\n",
    "df_sales.to_csv(full_path, encoding=\"utf-8\", index=False)\n"
   ]
  }
 ],
 "metadata": {
  "kernelspec": {
   "display_name": "Python 3",
   "language": "python",
   "name": "python3"
  },
  "language_info": {
   "codemirror_mode": {
    "name": "ipython",
    "version": 3
   },
   "file_extension": ".py",
   "mimetype": "text/x-python",
   "name": "python",
   "nbconvert_exporter": "python",
   "pygments_lexer": "ipython3",
   "version": "3.6.0"
  }
 },
 "nbformat": 4,
 "nbformat_minor": 2
}
