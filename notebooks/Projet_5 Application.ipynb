{
 "cells": [
  {
   "cell_type": "code",
   "execution_count": 1,
   "metadata": {
    "collapsed": true
   },
   "outputs": [],
   "source": [
    "%load_ext pycodestyle_magic"
   ]
  },
  {
   "cell_type": "code",
   "execution_count": 2,
   "metadata": {
    "collapsed": false
   },
   "outputs": [],
   "source": [
    "# %%pycodestyle\n",
    "\n",
    "# Required libraries\n",
    "import datetime as dt\n",
    "import matplotlib.pyplot as plt\n",
    "\n",
    "import os\n",
    "import math\n",
    "import time\n",
    "import numpy as np\n",
    "import pandas as pd\n",
    "import seaborn as sns\n",
    "sns.set(font_scale=1.5)\n",
    "\n",
    "from sklearn.preprocessing import StandardScaler\n",
    "from sklearn.ensemble import RandomForestClassifier\n",
    "\n",
    "start = time.time()"
   ]
  },
  {
   "cell_type": "code",
   "execution_count": 3,
   "metadata": {
    "collapsed": true
   },
   "outputs": [],
   "source": [
    "# Constants\n",
    "my_data = \"../data\""
   ]
  },
  {
   "cell_type": "markdown",
   "metadata": {},
   "source": [
    "# Load data"
   ]
  },
  {
   "cell_type": "code",
   "execution_count": 4,
   "metadata": {
    "collapsed": false
   },
   "outputs": [
    {
     "name": "stdout",
     "output_type": "stream",
     "text": [
      "(4323, 9)\n"
     ]
    }
   ],
   "source": [
    "# Load data of known customers\n",
    "datafile = \"datazon_customer_data.csv\"\n",
    "full_path = os.path.join(my_data, datafile)\n",
    "df_customers = pd.read_csv(full_path, dtype={'CustomerID': str,\n",
    "                                         'InvoiceNumberYear': 'int64',\n",
    "                                         'LastInvoiceMonth': str,\n",
    "                                         'LastInvoiceMonthNb': int,\n",
    "                                         'MeanLinesPerInvoice': float,\n",
    "                                         'MeanQuantityPerInvoice': float,\n",
    "                                         'MeanAmountPerInvoice': float,\n",
    "                                         'TotalAmountSpent': float,\n",
    "                                         'cluster_k': 'int64'})\n",
    "print(df_customers.shape)"
   ]
  },
  {
   "cell_type": "code",
   "execution_count": 5,
   "metadata": {
    "collapsed": false
   },
   "outputs": [
    {
     "name": "stdout",
     "output_type": "stream",
     "text": [
      "(2267, 8)\n"
     ]
    }
   ],
   "source": [
    "# Load data of new customer orders\n",
    "datafile = \"datazon_random_invoices.csv\"\n",
    "full_path = os.path.join(my_data, datafile)\n",
    "df_sales = pd.read_csv(full_path, dtype={'CustomerID': str})\n",
    "df_sales['InvoiceDate'] = df_sales['InvoiceDate'].astype('datetime64')\n",
    "print(df_sales.shape)\n"
   ]
  },
  {
   "cell_type": "markdown",
   "metadata": {},
   "source": [
    "### InvoiceDate\n",
    "This feature is useful to calculate the frequency of purchase of a customer, and since how long he didn't make any purchase."
   ]
  },
  {
   "cell_type": "code",
   "execution_count": 6,
   "metadata": {
    "collapsed": false
   },
   "outputs": [
    {
     "name": "stdout",
     "output_type": "stream",
     "text": [
      "Earliest invoice date: 2018-01-02 00:00:00\n",
      "Latest invoice date: 2018-12-24 00:00:00\n"
     ]
    }
   ],
   "source": [
    "print('Earliest invoice date: {0}'.format(df_sales['InvoiceDate'].min()))\n",
    "print('Latest invoice date: {0}'.format(df_sales['InvoiceDate'].max()))"
   ]
  },
  {
   "cell_type": "markdown",
   "metadata": {},
   "source": [
    "# Create features to qualify customers"
   ]
  },
  {
   "cell_type": "markdown",
   "metadata": {
    "collapsed": false
   },
   "source": [
    "### Number of orders per year"
   ]
  },
  {
   "cell_type": "code",
   "execution_count": 7,
   "metadata": {
    "collapsed": false
   },
   "outputs": [
    {
     "data": {
      "text/plain": [
       "(29, 2)"
      ]
     },
     "execution_count": 7,
     "metadata": {},
     "output_type": "execute_result"
    }
   ],
   "source": [
    "# Calculate number of invoices per year. Of course, this cannot be used for\n",
    "# new customers but is still useful to classify existing ones.\n",
    "invoice_number = (df_sales[['CustomerID', 'InvoiceNo']].drop_duplicates()\n",
    "                  .groupby(by=['CustomerID']).count().reset_index())\n",
    "invoice_number.rename(index=str, columns={'InvoiceNo': 'InvoiceNumberYear'},\n",
    "                      inplace=True)\n",
    "invoice_number.shape"
   ]
  },
  {
   "cell_type": "markdown",
   "metadata": {},
   "source": [
    "### Last invoice date"
   ]
  },
  {
   "cell_type": "code",
   "execution_count": 8,
   "metadata": {
    "collapsed": false
   },
   "outputs": [
    {
     "data": {
      "text/plain": [
       "(29, 2)"
      ]
     },
     "execution_count": 8,
     "metadata": {},
     "output_type": "execute_result"
    }
   ],
   "source": [
    "# Calculate last invoice date\n",
    "last_invoice_date = (df_sales[['CustomerID', 'InvoiceDate']]\n",
    "                     .groupby(by=['CustomerID']).max().reset_index())\n",
    "# Replace by year/month\n",
    "last_invoice_date['InvoiceDate'] = (last_invoice_date['InvoiceDate'].dt.year*100\n",
    "                                    + last_invoice_date['InvoiceDate'].dt.month)\n",
    "\n",
    "last_invoice_date.rename(index=str, columns={'InvoiceDate': 'LastInvoiceMonth'},\n",
    "                         inplace=True)\n",
    "\n",
    "last_invoice_date.shape"
   ]
  },
  {
   "cell_type": "code",
   "execution_count": 9,
   "metadata": {
    "collapsed": false
   },
   "outputs": [],
   "source": [
    "# Calculate number of months between last invoice and \"today\"\n",
    "# \"today\" is defined as the last month of the dataset.\n",
    "max_date = last_invoice_date['LastInvoiceMonth'].max()\n",
    "last_invoice_date['LastInvoiceMonthNb'] = max_date - last_invoice_date['LastInvoiceMonth']"
   ]
  },
  {
   "cell_type": "markdown",
   "metadata": {},
   "source": [
    "### Number of line items per invoice per customer"
   ]
  },
  {
   "cell_type": "code",
   "execution_count": 10,
   "metadata": {
    "collapsed": false
   },
   "outputs": [
    {
     "data": {
      "text/plain": [
       "(29, 2)"
      ]
     },
     "execution_count": 10,
     "metadata": {},
     "output_type": "execute_result"
    }
   ],
   "source": [
    "# Count number of lines on each invoice\n",
    "invoice_lines = (df_sales[['CustomerID', 'InvoiceNo', 'StockCode']]\n",
    "                 .groupby(by=['CustomerID', 'InvoiceNo']).count().reset_index())\n",
    "\n",
    "# Calculate mean value per customer of number of lines on ivoice\n",
    "invoice_lines_mean = (invoice_lines[['CustomerID', 'StockCode']]\n",
    "                      .groupby(by=['CustomerID']).mean().reset_index())\n",
    "invoice_lines_mean.rename(index=str, columns={'StockCode': 'MeanLinesPerInvoice'},\n",
    "                          inplace=True)\n",
    "invoice_lines_mean.shape"
   ]
  },
  {
   "cell_type": "markdown",
   "metadata": {},
   "source": [
    "### Sum of quantities per order"
   ]
  },
  {
   "cell_type": "code",
   "execution_count": 11,
   "metadata": {
    "collapsed": false
   },
   "outputs": [],
   "source": [
    "# Calculate total number of quantities for each invoice\n",
    "invoice_items = (df_sales[['CustomerID', 'InvoiceNo', 'Quantity']]\n",
    "                 .groupby(by=['CustomerID', 'InvoiceNo']).sum().reset_index())\n",
    "\n",
    "# Calculate mean value per customer of number of quantity of items per ivoice\n",
    "invoice_items_mean = (invoice_items[['CustomerID', 'Quantity']]\n",
    "                      .groupby(by=['CustomerID']).mean().reset_index())\n",
    "invoice_items_mean.rename(index=str, columns={'Quantity': 'MeanQuantityPerInvoice'},\n",
    "                          inplace=True)\n"
   ]
  },
  {
   "cell_type": "markdown",
   "metadata": {},
   "source": [
    "### Mean amount of invoice, per customer"
   ]
  },
  {
   "cell_type": "code",
   "execution_count": 12,
   "metadata": {
    "collapsed": false
   },
   "outputs": [],
   "source": [
    "# Calculate total invoice amount for each invoice\n",
    "df_sales['TotalPrice'] = df_sales['Quantity'] * df_sales['UnitPrice']\n",
    "invoice_amount = (df_sales[['CustomerID', 'InvoiceNo', 'TotalPrice']]\n",
    "                  .groupby(by=['CustomerID', 'InvoiceNo']).sum().reset_index())\n",
    "\n",
    "# Calculate mean monetary value for invoice, per customer\n",
    "invoice_amount_mean = (invoice_amount[['CustomerID', 'TotalPrice']]\n",
    "                       .groupby(by=['CustomerID']).mean().reset_index())\n",
    "invoice_amount_mean.rename(index=str, columns={'TotalPrice': 'MeanAmountPerInvoice'},\n",
    "                           inplace=True)\n"
   ]
  },
  {
   "cell_type": "markdown",
   "metadata": {},
   "source": [
    "### Total amount spent"
   ]
  },
  {
   "cell_type": "code",
   "execution_count": 13,
   "metadata": {
    "collapsed": false
   },
   "outputs": [],
   "source": [
    "# Calculate mean monetary value for invoice, per customer\n",
    "total_amount_spent = (invoice_amount[['CustomerID', 'TotalPrice']]\n",
    "                      .groupby(by=['CustomerID']).sum().reset_index())\n",
    "total_amount_spent.rename(index=str, columns={'TotalPrice': 'TotalAmountSpent'},\n",
    "                          inplace=True)\n"
   ]
  },
  {
   "cell_type": "markdown",
   "metadata": {},
   "source": [
    "### Create customer dataframe"
   ]
  },
  {
   "cell_type": "code",
   "execution_count": 14,
   "metadata": {
    "collapsed": false
   },
   "outputs": [],
   "source": [
    "df_new_customers = invoice_number.join(last_invoice_date.set_index('CustomerID'),\n",
    "                                       on='CustomerID')\n",
    "df_new_customers = df_new_customers.join(invoice_lines_mean.set_index('CustomerID'),\n",
    "                                         on='CustomerID')\n",
    "df_new_customers = df_new_customers.join(invoice_items_mean.set_index('CustomerID'),\n",
    "                                         on='CustomerID')\n",
    "df_new_customers = df_new_customers.join(invoice_amount_mean.set_index('CustomerID'),\n",
    "                                         on='CustomerID')\n",
    "df_new_customers = df_new_customers.join(total_amount_spent.set_index('CustomerID'),\n",
    "                                         on='CustomerID')"
   ]
  },
  {
   "cell_type": "markdown",
   "metadata": {},
   "source": [
    "## Create customer segmentations"
   ]
  },
  {
   "cell_type": "markdown",
   "metadata": {},
   "source": [
    "This is based on the total set of known customers."
   ]
  },
  {
   "cell_type": "code",
   "execution_count": 15,
   "metadata": {
    "collapsed": false
   },
   "outputs": [],
   "source": [
    "# Separate features and labels for training data\n",
    "X = df_customers[['InvoiceNumberYear', 'LastInvoiceMonthNb',\n",
    "                  'MeanLinesPerInvoice', 'MeanAmountPerInvoice',\n",
    "                  'TotalAmountSpent']]\n",
    "y = df_customers['cluster_k'].astype('int64')\n",
    "\n",
    "X_pred = df_new_customers[['InvoiceNumberYear', 'LastInvoiceMonthNb',\n",
    "                           'MeanLinesPerInvoice', 'MeanAmountPerInvoice',\n",
    "                           'TotalAmountSpent']]\n"
   ]
  },
  {
   "cell_type": "code",
   "execution_count": 16,
   "metadata": {
    "collapsed": false
   },
   "outputs": [],
   "source": [
    "# Random forest classifier\n",
    "rfc = RandomForestClassifier(n_estimators=200)\n",
    "\n",
    "model = rfc.fit(X, y)\n",
    "\n",
    "y_pred = rfc.predict(X_pred)\n",
    "\n",
    "df_new_customers['cluster_k'] = y_pred"
   ]
  },
  {
   "cell_type": "code",
   "execution_count": 17,
   "metadata": {
    "collapsed": false
   },
   "outputs": [
    {
     "data": {
      "text/html": [
       "<div>\n",
       "<table border=\"1\" class=\"dataframe\">\n",
       "  <thead>\n",
       "    <tr style=\"text-align: right;\">\n",
       "      <th></th>\n",
       "      <th>CustomerID</th>\n",
       "      <th>InvoiceNumberYear</th>\n",
       "      <th>LastInvoiceMonth</th>\n",
       "      <th>LastInvoiceMonthNb</th>\n",
       "      <th>MeanLinesPerInvoice</th>\n",
       "      <th>MeanQuantityPerInvoice</th>\n",
       "      <th>MeanAmountPerInvoice</th>\n",
       "      <th>TotalAmountSpent</th>\n",
       "      <th>cluster_k</th>\n",
       "    </tr>\n",
       "  </thead>\n",
       "  <tbody>\n",
       "    <tr>\n",
       "      <th>14</th>\n",
       "      <td>customer22</td>\n",
       "      <td>3</td>\n",
       "      <td>201809</td>\n",
       "      <td>3</td>\n",
       "      <td>41.666667</td>\n",
       "      <td>498.000000</td>\n",
       "      <td>1646.870000</td>\n",
       "      <td>4940.61</td>\n",
       "      <td>0</td>\n",
       "    </tr>\n",
       "    <tr>\n",
       "      <th>26</th>\n",
       "      <td>customer7</td>\n",
       "      <td>5</td>\n",
       "      <td>201811</td>\n",
       "      <td>1</td>\n",
       "      <td>33.600000</td>\n",
       "      <td>257.000000</td>\n",
       "      <td>734.920000</td>\n",
       "      <td>3674.60</td>\n",
       "      <td>0</td>\n",
       "    </tr>\n",
       "    <tr>\n",
       "      <th>25</th>\n",
       "      <td>customer6</td>\n",
       "      <td>2</td>\n",
       "      <td>201811</td>\n",
       "      <td>1</td>\n",
       "      <td>38.500000</td>\n",
       "      <td>400.000000</td>\n",
       "      <td>1511.980000</td>\n",
       "      <td>3023.96</td>\n",
       "      <td>0</td>\n",
       "    </tr>\n",
       "    <tr>\n",
       "      <th>4</th>\n",
       "      <td>customer13</td>\n",
       "      <td>2</td>\n",
       "      <td>201811</td>\n",
       "      <td>1</td>\n",
       "      <td>38.000000</td>\n",
       "      <td>223.000000</td>\n",
       "      <td>940.545000</td>\n",
       "      <td>1881.09</td>\n",
       "      <td>0</td>\n",
       "    </tr>\n",
       "    <tr>\n",
       "      <th>23</th>\n",
       "      <td>customer4</td>\n",
       "      <td>2</td>\n",
       "      <td>201812</td>\n",
       "      <td>0</td>\n",
       "      <td>30.000000</td>\n",
       "      <td>274.000000</td>\n",
       "      <td>464.160000</td>\n",
       "      <td>928.32</td>\n",
       "      <td>0</td>\n",
       "    </tr>\n",
       "    <tr>\n",
       "      <th>22</th>\n",
       "      <td>customer3</td>\n",
       "      <td>7</td>\n",
       "      <td>201811</td>\n",
       "      <td>1</td>\n",
       "      <td>28.142857</td>\n",
       "      <td>212.428571</td>\n",
       "      <td>676.544286</td>\n",
       "      <td>4735.81</td>\n",
       "      <td>0</td>\n",
       "    </tr>\n",
       "    <tr>\n",
       "      <th>9</th>\n",
       "      <td>customer18</td>\n",
       "      <td>3</td>\n",
       "      <td>201809</td>\n",
       "      <td>3</td>\n",
       "      <td>37.333333</td>\n",
       "      <td>283.666667</td>\n",
       "      <td>1045.146667</td>\n",
       "      <td>3135.44</td>\n",
       "      <td>0</td>\n",
       "    </tr>\n",
       "    <tr>\n",
       "      <th>18</th>\n",
       "      <td>customer26</td>\n",
       "      <td>1</td>\n",
       "      <td>201807</td>\n",
       "      <td>5</td>\n",
       "      <td>35.000000</td>\n",
       "      <td>542.000000</td>\n",
       "      <td>1370.280000</td>\n",
       "      <td>1370.28</td>\n",
       "      <td>0</td>\n",
       "    </tr>\n",
       "    <tr>\n",
       "      <th>24</th>\n",
       "      <td>customer5</td>\n",
       "      <td>2</td>\n",
       "      <td>201806</td>\n",
       "      <td>6</td>\n",
       "      <td>12.000000</td>\n",
       "      <td>379.000000</td>\n",
       "      <td>2257.360000</td>\n",
       "      <td>4514.72</td>\n",
       "      <td>1</td>\n",
       "    </tr>\n",
       "    <tr>\n",
       "      <th>21</th>\n",
       "      <td>customer29</td>\n",
       "      <td>1</td>\n",
       "      <td>201802</td>\n",
       "      <td>10</td>\n",
       "      <td>23.000000</td>\n",
       "      <td>687.000000</td>\n",
       "      <td>1951.450000</td>\n",
       "      <td>1951.45</td>\n",
       "      <td>1</td>\n",
       "    </tr>\n",
       "    <tr>\n",
       "      <th>8</th>\n",
       "      <td>customer17</td>\n",
       "      <td>1</td>\n",
       "      <td>201801</td>\n",
       "      <td>11</td>\n",
       "      <td>54.000000</td>\n",
       "      <td>323.000000</td>\n",
       "      <td>1614.340000</td>\n",
       "      <td>1614.34</td>\n",
       "      <td>1</td>\n",
       "    </tr>\n",
       "    <tr>\n",
       "      <th>17</th>\n",
       "      <td>customer25</td>\n",
       "      <td>1</td>\n",
       "      <td>201804</td>\n",
       "      <td>8</td>\n",
       "      <td>4.000000</td>\n",
       "      <td>41.000000</td>\n",
       "      <td>136.180000</td>\n",
       "      <td>136.18</td>\n",
       "      <td>1</td>\n",
       "    </tr>\n",
       "    <tr>\n",
       "      <th>20</th>\n",
       "      <td>customer28</td>\n",
       "      <td>6</td>\n",
       "      <td>201807</td>\n",
       "      <td>5</td>\n",
       "      <td>20.666667</td>\n",
       "      <td>158.000000</td>\n",
       "      <td>431.821667</td>\n",
       "      <td>2590.93</td>\n",
       "      <td>4</td>\n",
       "    </tr>\n",
       "    <tr>\n",
       "      <th>19</th>\n",
       "      <td>customer27</td>\n",
       "      <td>3</td>\n",
       "      <td>201808</td>\n",
       "      <td>4</td>\n",
       "      <td>15.333333</td>\n",
       "      <td>362.000000</td>\n",
       "      <td>1309.063333</td>\n",
       "      <td>3927.19</td>\n",
       "      <td>4</td>\n",
       "    </tr>\n",
       "    <tr>\n",
       "      <th>16</th>\n",
       "      <td>customer24</td>\n",
       "      <td>5</td>\n",
       "      <td>201810</td>\n",
       "      <td>2</td>\n",
       "      <td>19.800000</td>\n",
       "      <td>130.200000</td>\n",
       "      <td>465.262000</td>\n",
       "      <td>2326.31</td>\n",
       "      <td>4</td>\n",
       "    </tr>\n",
       "    <tr>\n",
       "      <th>28</th>\n",
       "      <td>customer9</td>\n",
       "      <td>3</td>\n",
       "      <td>201808</td>\n",
       "      <td>4</td>\n",
       "      <td>15.000000</td>\n",
       "      <td>141.666667</td>\n",
       "      <td>371.490000</td>\n",
       "      <td>1114.47</td>\n",
       "      <td>4</td>\n",
       "    </tr>\n",
       "    <tr>\n",
       "      <th>27</th>\n",
       "      <td>customer8</td>\n",
       "      <td>4</td>\n",
       "      <td>201810</td>\n",
       "      <td>2</td>\n",
       "      <td>18.250000</td>\n",
       "      <td>159.000000</td>\n",
       "      <td>411.470000</td>\n",
       "      <td>1645.88</td>\n",
       "      <td>4</td>\n",
       "    </tr>\n",
       "    <tr>\n",
       "      <th>13</th>\n",
       "      <td>customer21</td>\n",
       "      <td>6</td>\n",
       "      <td>201809</td>\n",
       "      <td>3</td>\n",
       "      <td>10.666667</td>\n",
       "      <td>56.666667</td>\n",
       "      <td>94.515000</td>\n",
       "      <td>567.09</td>\n",
       "      <td>4</td>\n",
       "    </tr>\n",
       "    <tr>\n",
       "      <th>12</th>\n",
       "      <td>customer20</td>\n",
       "      <td>6</td>\n",
       "      <td>201812</td>\n",
       "      <td>0</td>\n",
       "      <td>18.666667</td>\n",
       "      <td>167.500000</td>\n",
       "      <td>466.558333</td>\n",
       "      <td>2799.35</td>\n",
       "      <td>4</td>\n",
       "    </tr>\n",
       "    <tr>\n",
       "      <th>11</th>\n",
       "      <td>customer2</td>\n",
       "      <td>7</td>\n",
       "      <td>201811</td>\n",
       "      <td>1</td>\n",
       "      <td>19.714286</td>\n",
       "      <td>252.000000</td>\n",
       "      <td>640.425714</td>\n",
       "      <td>4482.98</td>\n",
       "      <td>4</td>\n",
       "    </tr>\n",
       "    <tr>\n",
       "      <th>10</th>\n",
       "      <td>customer19</td>\n",
       "      <td>6</td>\n",
       "      <td>201812</td>\n",
       "      <td>0</td>\n",
       "      <td>10.833333</td>\n",
       "      <td>103.500000</td>\n",
       "      <td>180.470000</td>\n",
       "      <td>1082.82</td>\n",
       "      <td>4</td>\n",
       "    </tr>\n",
       "    <tr>\n",
       "      <th>7</th>\n",
       "      <td>customer16</td>\n",
       "      <td>4</td>\n",
       "      <td>201812</td>\n",
       "      <td>0</td>\n",
       "      <td>16.500000</td>\n",
       "      <td>160.000000</td>\n",
       "      <td>370.117500</td>\n",
       "      <td>1480.47</td>\n",
       "      <td>4</td>\n",
       "    </tr>\n",
       "    <tr>\n",
       "      <th>6</th>\n",
       "      <td>customer15</td>\n",
       "      <td>2</td>\n",
       "      <td>201809</td>\n",
       "      <td>3</td>\n",
       "      <td>15.500000</td>\n",
       "      <td>290.500000</td>\n",
       "      <td>523.855000</td>\n",
       "      <td>1047.71</td>\n",
       "      <td>4</td>\n",
       "    </tr>\n",
       "    <tr>\n",
       "      <th>5</th>\n",
       "      <td>customer14</td>\n",
       "      <td>4</td>\n",
       "      <td>201812</td>\n",
       "      <td>0</td>\n",
       "      <td>9.500000</td>\n",
       "      <td>103.500000</td>\n",
       "      <td>272.622500</td>\n",
       "      <td>1090.49</td>\n",
       "      <td>4</td>\n",
       "    </tr>\n",
       "    <tr>\n",
       "      <th>3</th>\n",
       "      <td>customer12</td>\n",
       "      <td>2</td>\n",
       "      <td>201810</td>\n",
       "      <td>2</td>\n",
       "      <td>18.000000</td>\n",
       "      <td>126.500000</td>\n",
       "      <td>370.150000</td>\n",
       "      <td>740.30</td>\n",
       "      <td>4</td>\n",
       "    </tr>\n",
       "    <tr>\n",
       "      <th>2</th>\n",
       "      <td>customer11</td>\n",
       "      <td>4</td>\n",
       "      <td>201809</td>\n",
       "      <td>3</td>\n",
       "      <td>17.750000</td>\n",
       "      <td>164.000000</td>\n",
       "      <td>313.672500</td>\n",
       "      <td>1254.69</td>\n",
       "      <td>4</td>\n",
       "    </tr>\n",
       "    <tr>\n",
       "      <th>1</th>\n",
       "      <td>customer10</td>\n",
       "      <td>2</td>\n",
       "      <td>201808</td>\n",
       "      <td>4</td>\n",
       "      <td>8.500000</td>\n",
       "      <td>117.000000</td>\n",
       "      <td>241.740000</td>\n",
       "      <td>483.48</td>\n",
       "      <td>4</td>\n",
       "    </tr>\n",
       "    <tr>\n",
       "      <th>15</th>\n",
       "      <td>customer23</td>\n",
       "      <td>2</td>\n",
       "      <td>201807</td>\n",
       "      <td>5</td>\n",
       "      <td>14.500000</td>\n",
       "      <td>118.000000</td>\n",
       "      <td>273.640000</td>\n",
       "      <td>547.28</td>\n",
       "      <td>4</td>\n",
       "    </tr>\n",
       "    <tr>\n",
       "      <th>0</th>\n",
       "      <td>customer1</td>\n",
       "      <td>4</td>\n",
       "      <td>201806</td>\n",
       "      <td>6</td>\n",
       "      <td>64.500000</td>\n",
       "      <td>687.250000</td>\n",
       "      <td>2203.515000</td>\n",
       "      <td>8814.06</td>\n",
       "      <td>7</td>\n",
       "    </tr>\n",
       "  </tbody>\n",
       "</table>\n",
       "</div>"
      ],
      "text/plain": [
       "    CustomerID  InvoiceNumberYear  LastInvoiceMonth  LastInvoiceMonthNb  \\\n",
       "14  customer22                  3            201809                   3   \n",
       "26   customer7                  5            201811                   1   \n",
       "25   customer6                  2            201811                   1   \n",
       "4   customer13                  2            201811                   1   \n",
       "23   customer4                  2            201812                   0   \n",
       "22   customer3                  7            201811                   1   \n",
       "9   customer18                  3            201809                   3   \n",
       "18  customer26                  1            201807                   5   \n",
       "24   customer5                  2            201806                   6   \n",
       "21  customer29                  1            201802                  10   \n",
       "8   customer17                  1            201801                  11   \n",
       "17  customer25                  1            201804                   8   \n",
       "20  customer28                  6            201807                   5   \n",
       "19  customer27                  3            201808                   4   \n",
       "16  customer24                  5            201810                   2   \n",
       "28   customer9                  3            201808                   4   \n",
       "27   customer8                  4            201810                   2   \n",
       "13  customer21                  6            201809                   3   \n",
       "12  customer20                  6            201812                   0   \n",
       "11   customer2                  7            201811                   1   \n",
       "10  customer19                  6            201812                   0   \n",
       "7   customer16                  4            201812                   0   \n",
       "6   customer15                  2            201809                   3   \n",
       "5   customer14                  4            201812                   0   \n",
       "3   customer12                  2            201810                   2   \n",
       "2   customer11                  4            201809                   3   \n",
       "1   customer10                  2            201808                   4   \n",
       "15  customer23                  2            201807                   5   \n",
       "0    customer1                  4            201806                   6   \n",
       "\n",
       "    MeanLinesPerInvoice  MeanQuantityPerInvoice  MeanAmountPerInvoice  \\\n",
       "14            41.666667              498.000000           1646.870000   \n",
       "26            33.600000              257.000000            734.920000   \n",
       "25            38.500000              400.000000           1511.980000   \n",
       "4             38.000000              223.000000            940.545000   \n",
       "23            30.000000              274.000000            464.160000   \n",
       "22            28.142857              212.428571            676.544286   \n",
       "9             37.333333              283.666667           1045.146667   \n",
       "18            35.000000              542.000000           1370.280000   \n",
       "24            12.000000              379.000000           2257.360000   \n",
       "21            23.000000              687.000000           1951.450000   \n",
       "8             54.000000              323.000000           1614.340000   \n",
       "17             4.000000               41.000000            136.180000   \n",
       "20            20.666667              158.000000            431.821667   \n",
       "19            15.333333              362.000000           1309.063333   \n",
       "16            19.800000              130.200000            465.262000   \n",
       "28            15.000000              141.666667            371.490000   \n",
       "27            18.250000              159.000000            411.470000   \n",
       "13            10.666667               56.666667             94.515000   \n",
       "12            18.666667              167.500000            466.558333   \n",
       "11            19.714286              252.000000            640.425714   \n",
       "10            10.833333              103.500000            180.470000   \n",
       "7             16.500000              160.000000            370.117500   \n",
       "6             15.500000              290.500000            523.855000   \n",
       "5              9.500000              103.500000            272.622500   \n",
       "3             18.000000              126.500000            370.150000   \n",
       "2             17.750000              164.000000            313.672500   \n",
       "1              8.500000              117.000000            241.740000   \n",
       "15            14.500000              118.000000            273.640000   \n",
       "0             64.500000              687.250000           2203.515000   \n",
       "\n",
       "    TotalAmountSpent  cluster_k  \n",
       "14           4940.61          0  \n",
       "26           3674.60          0  \n",
       "25           3023.96          0  \n",
       "4            1881.09          0  \n",
       "23            928.32          0  \n",
       "22           4735.81          0  \n",
       "9            3135.44          0  \n",
       "18           1370.28          0  \n",
       "24           4514.72          1  \n",
       "21           1951.45          1  \n",
       "8            1614.34          1  \n",
       "17            136.18          1  \n",
       "20           2590.93          4  \n",
       "19           3927.19          4  \n",
       "16           2326.31          4  \n",
       "28           1114.47          4  \n",
       "27           1645.88          4  \n",
       "13            567.09          4  \n",
       "12           2799.35          4  \n",
       "11           4482.98          4  \n",
       "10           1082.82          4  \n",
       "7            1480.47          4  \n",
       "6            1047.71          4  \n",
       "5            1090.49          4  \n",
       "3             740.30          4  \n",
       "2            1254.69          4  \n",
       "1             483.48          4  \n",
       "15            547.28          4  \n",
       "0            8814.06          7  "
      ]
     },
     "execution_count": 17,
     "metadata": {},
     "output_type": "execute_result"
    }
   ],
   "source": [
    "df_new_customers.sort_values('cluster_k')"
   ]
  },
  {
   "cell_type": "code",
   "execution_count": 18,
   "metadata": {
    "collapsed": false
   },
   "outputs": [
    {
     "data": {
      "text/html": [
       "<div>\n",
       "<table border=\"1\" class=\"dataframe\">\n",
       "  <thead>\n",
       "    <tr style=\"text-align: right;\">\n",
       "      <th></th>\n",
       "      <th>InvoiceNumberYear</th>\n",
       "      <th>LastInvoiceMonth</th>\n",
       "      <th>LastInvoiceMonthNb</th>\n",
       "      <th>MeanLinesPerInvoice</th>\n",
       "      <th>MeanQuantityPerInvoice</th>\n",
       "      <th>MeanAmountPerInvoice</th>\n",
       "      <th>TotalAmountSpent</th>\n",
       "    </tr>\n",
       "    <tr>\n",
       "      <th>cluster_k</th>\n",
       "      <th></th>\n",
       "      <th></th>\n",
       "      <th></th>\n",
       "      <th></th>\n",
       "      <th></th>\n",
       "      <th></th>\n",
       "      <th></th>\n",
       "    </tr>\n",
       "  </thead>\n",
       "  <tbody>\n",
       "    <tr>\n",
       "      <th>0</th>\n",
       "      <td>3.125</td>\n",
       "      <td>201810.125</td>\n",
       "      <td>1.875</td>\n",
       "      <td>35.280357</td>\n",
       "      <td>336.261905</td>\n",
       "      <td>1048.805744</td>\n",
       "      <td>2961.26375</td>\n",
       "    </tr>\n",
       "    <tr>\n",
       "      <th>1</th>\n",
       "      <td>1.250</td>\n",
       "      <td>201803.250</td>\n",
       "      <td>8.750</td>\n",
       "      <td>23.250000</td>\n",
       "      <td>357.500000</td>\n",
       "      <td>1489.832500</td>\n",
       "      <td>2054.17250</td>\n",
       "    </tr>\n",
       "    <tr>\n",
       "      <th>4</th>\n",
       "      <td>4.125</td>\n",
       "      <td>201809.625</td>\n",
       "      <td>2.375</td>\n",
       "      <td>15.573810</td>\n",
       "      <td>163.127083</td>\n",
       "      <td>421.054597</td>\n",
       "      <td>1698.84000</td>\n",
       "    </tr>\n",
       "    <tr>\n",
       "      <th>7</th>\n",
       "      <td>4.000</td>\n",
       "      <td>201806.000</td>\n",
       "      <td>6.000</td>\n",
       "      <td>64.500000</td>\n",
       "      <td>687.250000</td>\n",
       "      <td>2203.515000</td>\n",
       "      <td>8814.06000</td>\n",
       "    </tr>\n",
       "  </tbody>\n",
       "</table>\n",
       "</div>"
      ],
      "text/plain": [
       "           InvoiceNumberYear  LastInvoiceMonth  LastInvoiceMonthNb  \\\n",
       "cluster_k                                                            \n",
       "0                      3.125        201810.125               1.875   \n",
       "1                      1.250        201803.250               8.750   \n",
       "4                      4.125        201809.625               2.375   \n",
       "7                      4.000        201806.000               6.000   \n",
       "\n",
       "           MeanLinesPerInvoice  MeanQuantityPerInvoice  MeanAmountPerInvoice  \\\n",
       "cluster_k                                                                      \n",
       "0                    35.280357              336.261905           1048.805744   \n",
       "1                    23.250000              357.500000           1489.832500   \n",
       "4                    15.573810              163.127083            421.054597   \n",
       "7                    64.500000              687.250000           2203.515000   \n",
       "\n",
       "           TotalAmountSpent  \n",
       "cluster_k                    \n",
       "0                2961.26375  \n",
       "1                2054.17250  \n",
       "4                1698.84000  \n",
       "7                8814.06000  "
      ]
     },
     "execution_count": 18,
     "metadata": {},
     "output_type": "execute_result"
    }
   ],
   "source": [
    "df_new_customers.groupby('cluster_k').mean()"
   ]
  },
  {
   "cell_type": "code",
   "execution_count": null,
   "metadata": {
    "collapsed": true
   },
   "outputs": [],
   "source": []
  }
 ],
 "metadata": {
  "kernelspec": {
   "display_name": "Python 3",
   "language": "python",
   "name": "python3"
  },
  "language_info": {
   "codemirror_mode": {
    "name": "ipython",
    "version": 3
   },
   "file_extension": ".py",
   "mimetype": "text/x-python",
   "name": "python",
   "nbconvert_exporter": "python",
   "pygments_lexer": "ipython3",
   "version": "3.6.0"
  }
 },
 "nbformat": 4,
 "nbformat_minor": 2
}
