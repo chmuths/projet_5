{
 "cells": [
  {
   "cell_type": "code",
   "execution_count": null,
   "metadata": {
    "collapsed": true
   },
   "outputs": [],
   "source": [
    "%load_ext pycodestyle_magic"
   ]
  },
  {
   "cell_type": "code",
   "execution_count": null,
   "metadata": {
    "collapsed": false
   },
   "outputs": [],
   "source": [
    "# %%pycodestyle\n",
    "\n",
    "# Required libraries\n",
    "import datetime as dt\n",
    "import matplotlib.pyplot as plt\n",
    "\n",
    "import os\n",
    "import time\n",
    "import numpy as np\n",
    "import pandas as pd\n",
    "\n",
    "from sklearn.model_selection import train_test_split\n",
    "from sklearn.model_selection import GridSearchCV\n",
    "\n",
    "from sklearn.metrics import accuracy_score\n",
    "from sklearn.metrics import make_scorer\n",
    "\n",
    "from sklearn.linear_model import LogisticRegression\n",
    "from sklearn.svm import LinearSVC\n",
    "\n",
    "from sklearn.ensemble import RandomForestClassifier\n",
    "from sklearn.ensemble import AdaBoostClassifier \n",
    "\n",
    "start = time.time()"
   ]
  },
  {
   "cell_type": "code",
   "execution_count": null,
   "metadata": {
    "collapsed": true
   },
   "outputs": [],
   "source": [
    "# Constants\n",
    "my_data = \"../data\""
   ]
  },
  {
   "cell_type": "markdown",
   "metadata": {},
   "source": [
    "# Load data"
   ]
  },
  {
   "cell_type": "code",
   "execution_count": null,
   "metadata": {
    "collapsed": false
   },
   "outputs": [],
   "source": [
    "# Load data into Pandas dataframe\n",
    "datafile = \"datazon_customer_data.csv\"\n",
    "full_path = os.path.join(my_data, datafile)\n",
    "df_customers = pd.read_csv(full_path)\n",
    "print(df_customers.shape)"
   ]
  },
  {
   "cell_type": "code",
   "execution_count": null,
   "metadata": {
    "collapsed": false
   },
   "outputs": [],
   "source": [
    "# Sample data to get a certain knowledge of the dataframe content\n",
    "df_customers.head()"
   ]
  },
  {
   "cell_type": "markdown",
   "metadata": {},
   "source": [
    "# Define classification functions"
   ]
  },
  {
   "cell_type": "markdown",
   "metadata": {},
   "source": [
    "## Logistic regression"
   ]
  },
  {
   "cell_type": "code",
   "execution_count": null,
   "metadata": {
    "collapsed": true
   },
   "outputs": [],
   "source": [
    "def LogisticRegressionCl(X_train, X_test, y_train, y_test):\n",
    "    \n",
    "    # First run of LR is without regularization\n",
    "    lr = LogisticRegression()\n",
    "    acc_scorer = make_scorer(accuracy_score)\n",
    "    \n",
    "    lr.fit(X_train,y_train)\n",
    "\n",
    "    y_pred = lr.predict(X_test)\n",
    "\n",
    "    print(\"Non regularized Logistic Regression Accuracy Score on test set {0:.2f}\".format(accuracy_score(y_test, y_pred)))\n",
    "\n",
    "    # second run of LR is with regularization\n",
    "    lr = LogisticRegression()\n",
    "    params = {'C': np.logspace(-3, 3, 7) , 'penalty':['l1','l2'] }\n",
    "    acc_scorer = make_scorer(accuracy_score)\n",
    "\n",
    "    gs_lr = GridSearchCV(lr, params)\n",
    "\n",
    "    gs_lr.fit(X_train, y_train)\n",
    "\n",
    "    y_pred = gs_lr.predict(X_test)\n",
    "    \n",
    "    print(\"Regularized Logistic Regression best params {0}\".format(gs_lr.best_params_))\n",
    "    print(\"Regularized Logistic Regression Accuracy Score on test set {0:.2f}\".format(accuracy_score(y_test, y_pred)))"
   ]
  },
  {
   "cell_type": "markdown",
   "metadata": {},
   "source": [
    "## Linear Support Vector Classification"
   ]
  },
  {
   "cell_type": "code",
   "execution_count": null,
   "metadata": {
    "collapsed": true
   },
   "outputs": [],
   "source": [
    "def SVMCl(X_train, X_test, y_train, y_test):\n",
    "\n",
    "    svm = LinearSVC()\n",
    "\n",
    "    params = { 'C': np.logspace(-4, 4, 9) }\n",
    "\n",
    "    gs_svm = GridSearchCV(svm, params)\n",
    "    gs_svm.fit(X_train, y_train)\n",
    "\n",
    "    y_pred = gs_svm.predict(X_test)\n",
    "    \n",
    "    print(\"SVM classification best params {0}\".format(gs_svm.best_params_))\n",
    "    print(\"SVM classification Accuracy Score on test set {0:.2f}\".format(accuracy_score(y_test, y_pred)))"
   ]
  },
  {
   "cell_type": "markdown",
   "metadata": {},
   "source": [
    "## Random Forest"
   ]
  },
  {
   "cell_type": "code",
   "execution_count": null,
   "metadata": {
    "collapsed": false
   },
   "outputs": [],
   "source": [
    "def RandomForestCl(X_train, X_test, y_train, y_test):\n",
    "\n",
    "    rfc = RandomForestClassifier()\n",
    "    params = { 'n_estimators': [50, 100, 200, 500, 1000] }\n",
    "    acc_scorer = make_scorer(accuracy_score)\n",
    "    \n",
    "    gs_rfc = GridSearchCV(rfc, params, scoring=acc_scorer)\n",
    "    \n",
    "    model = gs_rfc.fit(X_train, y_train)\n",
    "    \n",
    "    y_pred = gs_rfc.predict(X_test)\n",
    "\n",
    "    print(\"Random Forest best params {0}\".format(gs_rfc.best_params_))\n",
    "    print(\"Random Forest Accuracy Score on test set {0:.2f}\".format(accuracy_score(y_test, y_pred)))"
   ]
  },
  {
   "cell_type": "markdown",
   "metadata": {},
   "source": [
    "## AdaBoost classifier"
   ]
  },
  {
   "cell_type": "code",
   "execution_count": null,
   "metadata": {
    "collapsed": true
   },
   "outputs": [],
   "source": [
    "def AdaBoostCl(X_train, X_test, y_train, y_test):\n",
    "    \n",
    "    adaboost = AdaBoostClassifier()\n",
    "    params = { 'n_estimators': [50, 100, 150, 200], 'learning_rate': np.logspace(-4, 0, 9) }\n",
    "    acc_scorer = make_scorer(accuracy_score) #Pas nécessaire avec AdBosst car sa fonction score est de base accuracy\n",
    "\n",
    "    gs_adaboost = GridSearchCV(adaboost, params, scoring=acc_scorer)\n",
    "\n",
    "    gs_adaboost.fit(X_train, y_train)\n",
    "\n",
    "    y_pred = gs_adaboost.predict(X_test)\n",
    "    \n",
    "    print(\"AdaaBoost best params {0}\".format(gs_adaboost.best_params_))\n",
    "    print(\"AdaBoost Accuracy Score on test set {0:.2f}\".format(accuracy_score(y_test, y_pred)))"
   ]
  },
  {
   "cell_type": "markdown",
   "metadata": {},
   "source": [
    "# Run classifiers on several train sets"
   ]
  },
  {
   "cell_type": "markdown",
   "metadata": {},
   "source": [
    "## 1. Test set included in initial clustering"
   ]
  },
  {
   "cell_type": "markdown",
   "metadata": {},
   "source": [
    "This run takes a dataset which was clustered as a whole: train and test samples together. This is likely to cause data leakage."
   ]
  },
  {
   "cell_type": "code",
   "execution_count": null,
   "metadata": {
    "collapsed": true
   },
   "outputs": [],
   "source": [
    "# Separate features and labels\n",
    "X = df_customers[['InvoiceNumberYear', 'LastInvoiceMonthNb',\n",
    "                                      'MeanLinesPerInvoice', 'MeanAmountPerInvoice',\n",
    "                                      'TotalAmountSpent']]\n",
    "y = df_customers['cluster_k']\n",
    "\n",
    "# Random sampling for train and test set\n",
    "X_train, X_test, y_train, y_test = train_test_split(X, y, test_size=0.33)"
   ]
  },
  {
   "cell_type": "markdown",
   "metadata": {},
   "source": [
    "## Run all algorythms on this set"
   ]
  },
  {
   "cell_type": "code",
   "execution_count": null,
   "metadata": {
    "collapsed": false
   },
   "outputs": [],
   "source": [
    "LogisticRegressionCl(X_train, X_test, y_train, y_test)\n",
    "print()\n",
    "SVMCl(X_train, X_test, y_train, y_test)\n",
    "print()\n",
    "RandomForestCl(X_train, X_test, y_train, y_test)\n",
    "print()\n",
    "AdaBoostCl(X_train, X_test, y_train, y_test)"
   ]
  },
  {
   "cell_type": "markdown",
   "metadata": {},
   "source": [
    "## 2. Clustering done only on train sets, test set labelled in a second step"
   ]
  },
  {
   "cell_type": "markdown",
   "metadata": {},
   "source": [
    "In this approach, the customer base was spplit in train and test set, then the train set was classified by a k-means clustering, and finally the test set was labelled using the classifier predict function."
   ]
  },
  {
   "cell_type": "code",
   "execution_count": null,
   "metadata": {
    "collapsed": false
   },
   "outputs": [],
   "source": [
    "# Load data into Pandas dataframe\n",
    "datafile = \"datazon_customer_data_2_train.csv\"\n",
    "full_path = os.path.join(\"data\", datafile)\n",
    "df_customers_train = pd.read_csv(full_path)\n",
    "print(df_customers_train.shape)\n",
    "\n",
    "# Load data into Pandas dataframe\n",
    "datafile = \"datazon_customer_data_2_test.csv\"\n",
    "full_path = os.path.join(\"data\", datafile)\n",
    "df_customers_test = pd.read_csv(full_path)\n",
    "print(df_customers_test.shape)\n",
    "\n",
    "X_train = df_customers_train[['InvoiceNumberYear', 'LastInvoiceMonthNb',\n",
    "                              'MeanLinesPerInvoice', 'MeanAmountPerInvoice',\n",
    "                              'TotalAmountSpent']]\n",
    "y_train = df_customers_train['cluster_k']\n",
    "\n",
    "X_test = df_customers_test[['InvoiceNumberYear', 'LastInvoiceMonthNb',\n",
    "                            'MeanLinesPerInvoice', 'MeanAmountPerInvoice',\n",
    "                            'TotalAmountSpent']]\n",
    "y_test = df_customers_test['cluster_k']"
   ]
  },
  {
   "cell_type": "markdown",
   "metadata": {},
   "source": [
    "## Run all algorythms on this set"
   ]
  },
  {
   "cell_type": "code",
   "execution_count": null,
   "metadata": {
    "collapsed": false
   },
   "outputs": [],
   "source": [
    "LogisticRegressionCl(X_train, X_test, y_train, y_test)\n",
    "print()\n",
    "SVMCl(X_train, X_test, y_train, y_test)\n",
    "print()\n",
    "RandomForestCl(X_train, X_test, y_train, y_test)\n",
    "print()\n",
    "AdaBoostCl(X_train, X_test, y_train, y_test)"
   ]
  },
  {
   "cell_type": "markdown",
   "metadata": {
    "collapsed": true
   },
   "source": [
    "## 3. Time biased train and test sets"
   ]
  },
  {
   "cell_type": "code",
   "execution_count": null,
   "metadata": {
    "collapsed": false
   },
   "outputs": [],
   "source": [
    "# Load data into Pandas dataframe\n",
    "datafile = \"datazon_customer_data_3_train.csv\"\n",
    "full_path = os.path.join(\"data\", datafile)\n",
    "df_customers_train = pd.read_csv(full_path)\n",
    "print(df_customers_train.shape)\n",
    "\n",
    "# Load data into Pandas dataframe\n",
    "datafile = \"datazon_customer_data_3_test.csv\"\n",
    "full_path = os.path.join(\"data\", datafile)\n",
    "df_customers_test = pd.read_csv(full_path)\n",
    "print(df_customers_test.shape)\n",
    "\n",
    "X_train = df_customers_train[['InvoiceNumberYear', 'LastInvoiceMonthNb',\n",
    "                              'MeanLinesPerInvoice', 'MeanAmountPerInvoice',\n",
    "                              'TotalAmountSpent']]\n",
    "y_train = df_customers_train['cluster_k']\n",
    "\n",
    "X_test = df_customers_test[['InvoiceNumberYear', 'LastInvoiceMonthNb',\n",
    "                            'MeanLinesPerInvoice', 'MeanAmountPerInvoice',\n",
    "                            'TotalAmountSpent']]\n",
    "y_test = df_customers_test['cluster_k']"
   ]
  },
  {
   "cell_type": "markdown",
   "metadata": {},
   "source": [
    "## Run all algorythms on this set"
   ]
  },
  {
   "cell_type": "code",
   "execution_count": null,
   "metadata": {
    "collapsed": false
   },
   "outputs": [],
   "source": [
    "LogisticRegressionCl(X_train, X_test, y_train, y_test)\n",
    "print()\n",
    "SVMCl(X_train, X_test, y_train, y_test)\n",
    "print()\n",
    "RandomForestCl(X_train, X_test, y_train, y_test)\n",
    "print()\n",
    "AdaBoostCl(X_train, X_test, y_train, y_test)"
   ]
  },
  {
   "cell_type": "markdown",
   "metadata": {
    "collapsed": true
   },
   "source": [
    "## Prepare expense value biased train and test sets"
   ]
  },
  {
   "cell_type": "code",
   "execution_count": null,
   "metadata": {
    "collapsed": false
   },
   "outputs": [],
   "source": [
    "# Load data into Pandas dataframe\n",
    "datafile = \"datazon_customer_data_4_train.csv\"\n",
    "full_path = os.path.join(\"data\", datafile)\n",
    "df_customers_train = pd.read_csv(full_path)\n",
    "print(df_customers_train.shape)\n",
    "\n",
    "# Load data into Pandas dataframe\n",
    "datafile = \"datazon_customer_data_4_test.csv\"\n",
    "full_path = os.path.join(\"data\", datafile)\n",
    "df_customers_test = pd.read_csv(full_path)\n",
    "print(df_customers.shape)\n",
    "\n",
    "X_train = df_customers_train[['InvoiceNumberYear', 'LastInvoiceMonthNb',\n",
    "                              'MeanLinesPerInvoice', 'MeanAmountPerInvoice',\n",
    "                              'TotalAmountSpent']]\n",
    "y_train = df_customers_train['cluster_k']\n",
    "\n",
    "X_test = df_customers_test[['InvoiceNumberYear', 'LastInvoiceMonthNb',\n",
    "                            'MeanLinesPerInvoice', 'MeanAmountPerInvoice',\n",
    "                            'TotalAmountSpent']]\n",
    "y_test = df_customers_test['cluster_k']\n"
   ]
  },
  {
   "cell_type": "markdown",
   "metadata": {},
   "source": [
    "## Run all algorythms on this set"
   ]
  },
  {
   "cell_type": "code",
   "execution_count": null,
   "metadata": {
    "collapsed": false
   },
   "outputs": [],
   "source": [
    "LogisticRegressionCl(X_train, X_test, y_train, y_test)\n",
    "print()\n",
    "SVMCl(X_train, X_test, y_train, y_test)\n",
    "print()\n",
    "RandomForestCl(X_train, X_test, y_train, y_test)\n",
    "print()\n",
    "AdaBoostCl(X_train, X_test, y_train, y_test)"
   ]
  },
  {
   "cell_type": "code",
   "execution_count": null,
   "metadata": {
    "collapsed": true
   },
   "outputs": [],
   "source": []
  }
 ],
 "metadata": {
  "kernelspec": {
   "display_name": "Python 3",
   "language": "python",
   "name": "python3"
  },
  "language_info": {
   "codemirror_mode": {
    "name": "ipython",
    "version": 3
   },
   "file_extension": ".py",
   "mimetype": "text/x-python",
   "name": "python",
   "nbconvert_exporter": "python",
   "pygments_lexer": "ipython3",
   "version": "3.6.0"
  }
 },
 "nbformat": 4,
 "nbformat_minor": 2
}
