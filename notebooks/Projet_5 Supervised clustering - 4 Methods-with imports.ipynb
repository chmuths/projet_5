{
 "cells": [
  {
   "cell_type": "code",
   "execution_count": 1,
   "metadata": {
    "collapsed": true
   },
   "outputs": [],
   "source": [
    "%load_ext pycodestyle_magic"
   ]
  },
  {
   "cell_type": "code",
   "execution_count": 2,
   "metadata": {
    "collapsed": false
   },
   "outputs": [],
   "source": [
    "# %%pycodestyle\n",
    "\n",
    "# Required libraries\n",
    "import datetime as dt\n",
    "import matplotlib.pyplot as plt\n",
    "\n",
    "import os\n",
    "import time\n",
    "import numpy as np\n",
    "import pandas as pd\n",
    "\n",
    "from sklearn.model_selection import train_test_split\n",
    "from sklearn.model_selection import GridSearchCV\n",
    "\n",
    "from sklearn.metrics import accuracy_score\n",
    "from sklearn.metrics import make_scorer\n",
    "\n",
    "from sklearn.linear_model import LogisticRegression\n",
    "from sklearn.svm import LinearSVC\n",
    "\n",
    "from sklearn.ensemble import RandomForestClassifier\n",
    "from sklearn.ensemble import AdaBoostClassifier \n",
    "\n",
    "start = time.time()"
   ]
  },
  {
   "cell_type": "markdown",
   "metadata": {},
   "source": [
    "# Load data"
   ]
  },
  {
   "cell_type": "code",
   "execution_count": 3,
   "metadata": {
    "collapsed": false
   },
   "outputs": [
    {
     "name": "stdout",
     "output_type": "stream",
     "text": [
      "(4323, 9)\n"
     ]
    }
   ],
   "source": [
    "# Load data into Pandas dataframe\n",
    "datafile = \"datazon_customer_data.csv\"\n",
    "full_path = os.path.join(\"data\", datafile)\n",
    "df_customers = pd.read_csv(full_path)\n",
    "print(df_customers.shape)"
   ]
  },
  {
   "cell_type": "code",
   "execution_count": 4,
   "metadata": {
    "collapsed": false
   },
   "outputs": [
    {
     "data": {
      "text/html": [
       "<div>\n",
       "<table border=\"1\" class=\"dataframe\">\n",
       "  <thead>\n",
       "    <tr style=\"text-align: right;\">\n",
       "      <th></th>\n",
       "      <th>CustomerID</th>\n",
       "      <th>InvoiceNumberYear</th>\n",
       "      <th>LastInvoiceMonth</th>\n",
       "      <th>LastInvoiceMonthNb</th>\n",
       "      <th>MeanLinesPerInvoice</th>\n",
       "      <th>MeanQuantityPerInvoice</th>\n",
       "      <th>MeanAmountPerInvoice</th>\n",
       "      <th>TotalAmountSpent</th>\n",
       "      <th>cluster_k</th>\n",
       "    </tr>\n",
       "  </thead>\n",
       "  <tbody>\n",
       "    <tr>\n",
       "      <th>0</th>\n",
       "      <td>12347</td>\n",
       "      <td>7</td>\n",
       "      <td>201112</td>\n",
       "      <td>0</td>\n",
       "      <td>26.00</td>\n",
       "      <td>351.142857</td>\n",
       "      <td>615.714286</td>\n",
       "      <td>4310.00</td>\n",
       "      <td>9</td>\n",
       "    </tr>\n",
       "    <tr>\n",
       "      <th>1</th>\n",
       "      <td>12348</td>\n",
       "      <td>4</td>\n",
       "      <td>201109</td>\n",
       "      <td>3</td>\n",
       "      <td>6.75</td>\n",
       "      <td>583.000000</td>\n",
       "      <td>359.310000</td>\n",
       "      <td>1437.24</td>\n",
       "      <td>2</td>\n",
       "    </tr>\n",
       "    <tr>\n",
       "      <th>2</th>\n",
       "      <td>12349</td>\n",
       "      <td>1</td>\n",
       "      <td>201111</td>\n",
       "      <td>1</td>\n",
       "      <td>72.00</td>\n",
       "      <td>630.000000</td>\n",
       "      <td>1457.550000</td>\n",
       "      <td>1457.55</td>\n",
       "      <td>4</td>\n",
       "    </tr>\n",
       "    <tr>\n",
       "      <th>3</th>\n",
       "      <td>12350</td>\n",
       "      <td>1</td>\n",
       "      <td>201102</td>\n",
       "      <td>10</td>\n",
       "      <td>16.00</td>\n",
       "      <td>196.000000</td>\n",
       "      <td>294.400000</td>\n",
       "      <td>294.40</td>\n",
       "      <td>0</td>\n",
       "    </tr>\n",
       "    <tr>\n",
       "      <th>4</th>\n",
       "      <td>12352</td>\n",
       "      <td>7</td>\n",
       "      <td>201111</td>\n",
       "      <td>1</td>\n",
       "      <td>10.00</td>\n",
       "      <td>66.142857</td>\n",
       "      <td>180.772857</td>\n",
       "      <td>1265.41</td>\n",
       "      <td>2</td>\n",
       "    </tr>\n",
       "  </tbody>\n",
       "</table>\n",
       "</div>"
      ],
      "text/plain": [
       "   CustomerID  InvoiceNumberYear  LastInvoiceMonth  LastInvoiceMonthNb  \\\n",
       "0       12347                  7            201112                   0   \n",
       "1       12348                  4            201109                   3   \n",
       "2       12349                  1            201111                   1   \n",
       "3       12350                  1            201102                  10   \n",
       "4       12352                  7            201111                   1   \n",
       "\n",
       "   MeanLinesPerInvoice  MeanQuantityPerInvoice  MeanAmountPerInvoice  \\\n",
       "0                26.00              351.142857            615.714286   \n",
       "1                 6.75              583.000000            359.310000   \n",
       "2                72.00              630.000000           1457.550000   \n",
       "3                16.00              196.000000            294.400000   \n",
       "4                10.00               66.142857            180.772857   \n",
       "\n",
       "   TotalAmountSpent  cluster_k  \n",
       "0           4310.00          9  \n",
       "1           1437.24          2  \n",
       "2           1457.55          4  \n",
       "3            294.40          0  \n",
       "4           1265.41          2  "
      ]
     },
     "execution_count": 4,
     "metadata": {},
     "output_type": "execute_result"
    }
   ],
   "source": [
    "# Sample data to get a certain knowledge of the dataframe content\n",
    "df_customers.head()"
   ]
  },
  {
   "cell_type": "markdown",
   "metadata": {},
   "source": [
    "# Define classification functions"
   ]
  },
  {
   "cell_type": "markdown",
   "metadata": {},
   "source": [
    "## Logistic regression"
   ]
  },
  {
   "cell_type": "code",
   "execution_count": 5,
   "metadata": {
    "collapsed": true
   },
   "outputs": [],
   "source": [
    "def LogisticRegressionCl(X_train, X_test, y_train, y_test):\n",
    "    \n",
    "    # First run of LR is without regularization\n",
    "    lr = LogisticRegression()\n",
    "    acc_scorer = make_scorer(accuracy_score)\n",
    "    \n",
    "    lr.fit(X_train,y_train)\n",
    "\n",
    "    y_pred = lr.predict(X_test)\n",
    "\n",
    "    print(\"Non regularized Logistic Regression Accuracy Score on test set {0:.2f}\".format(accuracy_score(y_test, y_pred)))\n",
    "\n",
    "    # second run of LR is with regularization\n",
    "    lr = LogisticRegression()\n",
    "    params = {'C': np.logspace(-3, 3, 7) , 'penalty':['l1','l2'] }\n",
    "    acc_scorer = make_scorer(accuracy_score)\n",
    "\n",
    "    gs_lr = GridSearchCV(lr, params)\n",
    "\n",
    "    gs_lr.fit(X_train, y_train)\n",
    "\n",
    "    y_pred = gs_lr.predict(X_test)\n",
    "    \n",
    "    print(\"Regularized Logistic Regression best params {0}\".format(gs_lr.best_params_))\n",
    "    print(\"Regularized Logistic Regression Accuracy Score on test set {0:.2f}\".format(accuracy_score(y_test, y_pred)))"
   ]
  },
  {
   "cell_type": "markdown",
   "metadata": {},
   "source": [
    "## Linear Support Vector Classification"
   ]
  },
  {
   "cell_type": "code",
   "execution_count": 6,
   "metadata": {
    "collapsed": true
   },
   "outputs": [],
   "source": [
    "def SVMCl(X_train, X_test, y_train, y_test):\n",
    "\n",
    "    svm = LinearSVC()\n",
    "\n",
    "    params = { 'C': np.logspace(-4, 4, 9) }\n",
    "\n",
    "    gs_svm = GridSearchCV(svm, params)\n",
    "    gs_svm.fit(X_train, y_train)\n",
    "\n",
    "    y_pred = gs_svm.predict(X_test)\n",
    "    \n",
    "    print(\"SVM classification best params {0}\".format(gs_svm.best_params_))\n",
    "    print(\"SVM classification Accuracy Score on test set {0:.2f}\".format(accuracy_score(y_test, y_pred)))"
   ]
  },
  {
   "cell_type": "markdown",
   "metadata": {},
   "source": [
    "## Random Forest"
   ]
  },
  {
   "cell_type": "code",
   "execution_count": 7,
   "metadata": {
    "collapsed": false
   },
   "outputs": [],
   "source": [
    "def RandomForestCl(X_train, X_test, y_train, y_test):\n",
    "\n",
    "    rfc = RandomForestClassifier()\n",
    "    params = { 'n_estimators': [50, 100, 200, 500, 1000] }\n",
    "    acc_scorer = make_scorer(accuracy_score)\n",
    "    \n",
    "    gs_rfc = GridSearchCV(rfc, params, scoring=acc_scorer)\n",
    "    \n",
    "    model = gs_rfc.fit(X_train, y_train)\n",
    "    \n",
    "    y_pred = gs_rfc.predict(X_test)\n",
    "\n",
    "    print(\"Random Forest best params {0}\".format(gs_rfc.best_params_))\n",
    "    print(\"Random Forest Accuracy Score on test set {0:.2f}\".format(accuracy_score(y_test, y_pred)))"
   ]
  },
  {
   "cell_type": "markdown",
   "metadata": {},
   "source": [
    "## AdaBoost classifier"
   ]
  },
  {
   "cell_type": "code",
   "execution_count": 8,
   "metadata": {
    "collapsed": true
   },
   "outputs": [],
   "source": [
    "def AdaBoostCl(X_train, X_test, y_train, y_test):\n",
    "    \n",
    "    adaboost = AdaBoostClassifier()\n",
    "    params = { 'n_estimators': [50, 100, 150, 200], 'learning_rate': np.logspace(-4, 0, 9) }\n",
    "    acc_scorer = make_scorer(accuracy_score) #Pas nécessaire avec AdBosst car sa fonction score est de base accuracy\n",
    "\n",
    "    gs_adaboost = GridSearchCV(adaboost, params, scoring=acc_scorer)\n",
    "\n",
    "    gs_adaboost.fit(X_train, y_train)\n",
    "\n",
    "    y_pred = gs_adaboost.predict(X_test)\n",
    "    \n",
    "    print(\"AdaaBoost best params {0}\".format(gs_adaboost.best_params_))\n",
    "    print(\"AdaBoost Accuracy Score on test set {0:.2f}\".format(accuracy_score(y_test, y_pred)))"
   ]
  },
  {
   "cell_type": "markdown",
   "metadata": {},
   "source": [
    "# Run classifiers on several train sets"
   ]
  },
  {
   "cell_type": "markdown",
   "metadata": {},
   "source": [
    "## 1. Test set included in initial clustering"
   ]
  },
  {
   "cell_type": "markdown",
   "metadata": {},
   "source": [
    "This run takes a dataset which was clustered as a whole: train and test samples together. This is likely to cause data leakage."
   ]
  },
  {
   "cell_type": "code",
   "execution_count": 9,
   "metadata": {
    "collapsed": true
   },
   "outputs": [],
   "source": [
    "# Separate features and labels\n",
    "X = df_customers[['InvoiceNumberYear', 'LastInvoiceMonthNb',\n",
    "                                      'MeanLinesPerInvoice', 'MeanAmountPerInvoice',\n",
    "                                      'TotalAmountSpent']]\n",
    "y = df_customers['cluster_k']\n",
    "\n",
    "# Random sampling for train and test set\n",
    "X_train, X_test, y_train, y_test = train_test_split(X, y, test_size=0.33)"
   ]
  },
  {
   "cell_type": "markdown",
   "metadata": {},
   "source": [
    "## Run all algorythms on this set"
   ]
  },
  {
   "cell_type": "code",
   "execution_count": 10,
   "metadata": {
    "collapsed": false
   },
   "outputs": [
    {
     "name": "stdout",
     "output_type": "stream",
     "text": [
      "Non regularized Logistic Regression Accuracy Score on test set 0.90\n",
      "Regularized Logistic Regression best params {'C': 100.0, 'penalty': 'l1'}\n",
      "Regularized Logistic Regression Accuracy Score on test set 0.91\n",
      "\n",
      "SVM classification best params {'C': 0.0001}\n",
      "SVM classification Accuracy Score on test set 0.76\n",
      "\n",
      "Random Forest best params {'n_estimators': 200}\n",
      "Random Forest Accuracy Score on test set 0.98\n",
      "\n",
      "AdaaBoost best params {'learning_rate': 0.31622776601683794, 'n_estimators': 200}\n",
      "AdaBoost Accuracy Score on test set 0.90\n"
     ]
    }
   ],
   "source": [
    "LogisticRegressionCl(X_train, X_test, y_train, y_test)\n",
    "print()\n",
    "SVMCl(X_train, X_test, y_train, y_test)\n",
    "print()\n",
    "RandomForestCl(X_train, X_test, y_train, y_test)\n",
    "print()\n",
    "AdaBoostCl(X_train, X_test, y_train, y_test)"
   ]
  },
  {
   "cell_type": "markdown",
   "metadata": {},
   "source": [
    "## 2. Clustering done only on train sets, test set labelled in a second step"
   ]
  },
  {
   "cell_type": "markdown",
   "metadata": {},
   "source": [
    "In this approach, the customer base was spplit in train and test set, then the train set was classified by a k-means clustering, and finally the test set was labelled using the classifier predict function."
   ]
  },
  {
   "cell_type": "code",
   "execution_count": 11,
   "metadata": {
    "collapsed": false
   },
   "outputs": [
    {
     "name": "stdout",
     "output_type": "stream",
     "text": [
      "(2896, 9)\n",
      "(1427, 9)\n"
     ]
    }
   ],
   "source": [
    "# Load data into Pandas dataframe\n",
    "datafile = \"datazon_customer_data_2_train.csv\"\n",
    "full_path = os.path.join(\"data\", datafile)\n",
    "df_customers_train = pd.read_csv(full_path)\n",
    "print(df_customers_train.shape)\n",
    "\n",
    "# Load data into Pandas dataframe\n",
    "datafile = \"datazon_customer_data_2_test.csv\"\n",
    "full_path = os.path.join(\"data\", datafile)\n",
    "df_customers_test = pd.read_csv(full_path)\n",
    "print(df_customers_test.shape)\n",
    "\n",
    "X_train = df_customers_train[['InvoiceNumberYear', 'LastInvoiceMonthNb',\n",
    "                              'MeanLinesPerInvoice', 'MeanAmountPerInvoice',\n",
    "                              'TotalAmountSpent']]\n",
    "y_train = df_customers_train['cluster_k']\n",
    "\n",
    "X_test = df_customers_test[['InvoiceNumberYear', 'LastInvoiceMonthNb',\n",
    "                            'MeanLinesPerInvoice', 'MeanAmountPerInvoice',\n",
    "                            'TotalAmountSpent']]\n",
    "y_test = df_customers_test['cluster_k']"
   ]
  },
  {
   "cell_type": "markdown",
   "metadata": {},
   "source": [
    "## Run all algorythms on this set"
   ]
  },
  {
   "cell_type": "code",
   "execution_count": 12,
   "metadata": {
    "collapsed": false
   },
   "outputs": [
    {
     "name": "stdout",
     "output_type": "stream",
     "text": [
      "Non regularized Logistic Regression Accuracy Score on test set 0.96\n",
      "Regularized Logistic Regression best params {'C': 1000.0, 'penalty': 'l1'}\n",
      "Regularized Logistic Regression Accuracy Score on test set 0.95\n",
      "\n",
      "SVM classification best params {'C': 0.10000000000000001}\n",
      "SVM classification Accuracy Score on test set 0.54\n",
      "\n",
      "Random Forest best params {'n_estimators': 100}\n",
      "Random Forest Accuracy Score on test set 0.99\n",
      "\n",
      "AdaaBoost best params {'learning_rate': 0.31622776601683794, 'n_estimators': 50}\n",
      "AdaBoost Accuracy Score on test set 0.97\n"
     ]
    }
   ],
   "source": [
    "LogisticRegressionCl(X_train, X_test, y_train, y_test)\n",
    "print()\n",
    "SVMCl(X_train, X_test, y_train, y_test)\n",
    "print()\n",
    "RandomForestCl(X_train, X_test, y_train, y_test)\n",
    "print()\n",
    "AdaBoostCl(X_train, X_test, y_train, y_test)"
   ]
  },
  {
   "cell_type": "markdown",
   "metadata": {
    "collapsed": true
   },
   "source": [
    "## 3. Time biased train and test sets"
   ]
  },
  {
   "cell_type": "code",
   "execution_count": 13,
   "metadata": {
    "collapsed": false
   },
   "outputs": [
    {
     "name": "stdout",
     "output_type": "stream",
     "text": [
      "(1151, 9)\n",
      "(3172, 9)\n"
     ]
    }
   ],
   "source": [
    "# Load data into Pandas dataframe\n",
    "datafile = \"datazon_customer_data_3_train.csv\"\n",
    "full_path = os.path.join(\"data\", datafile)\n",
    "df_customers_train = pd.read_csv(full_path)\n",
    "print(df_customers_train.shape)\n",
    "\n",
    "# Load data into Pandas dataframe\n",
    "datafile = \"datazon_customer_data_3_test.csv\"\n",
    "full_path = os.path.join(\"data\", datafile)\n",
    "df_customers_test = pd.read_csv(full_path)\n",
    "print(df_customers_test.shape)\n",
    "\n",
    "X_train = df_customers_train[['InvoiceNumberYear', 'LastInvoiceMonthNb',\n",
    "                              'MeanLinesPerInvoice', 'MeanAmountPerInvoice',\n",
    "                              'TotalAmountSpent']]\n",
    "y_train = df_customers_train['cluster_k']\n",
    "\n",
    "X_test = df_customers_test[['InvoiceNumberYear', 'LastInvoiceMonthNb',\n",
    "                            'MeanLinesPerInvoice', 'MeanAmountPerInvoice',\n",
    "                            'TotalAmountSpent']]\n",
    "y_test = df_customers_test['cluster_k']"
   ]
  },
  {
   "cell_type": "markdown",
   "metadata": {},
   "source": [
    "## Run all algorythms on this set"
   ]
  },
  {
   "cell_type": "code",
   "execution_count": 14,
   "metadata": {
    "collapsed": false
   },
   "outputs": [
    {
     "name": "stdout",
     "output_type": "stream",
     "text": [
      "Non regularized Logistic Regression Accuracy Score on test set 0.94\n",
      "Regularized Logistic Regression best params {'C': 10.0, 'penalty': 'l2'}\n",
      "Regularized Logistic Regression Accuracy Score on test set 0.92\n",
      "\n",
      "SVM classification best params {'C': 1.0}\n",
      "SVM classification Accuracy Score on test set 0.82\n",
      "\n",
      "Random Forest best params {'n_estimators': 50}\n",
      "Random Forest Accuracy Score on test set 0.95\n",
      "\n",
      "AdaaBoost best params {'learning_rate': 0.031622776601683791, 'n_estimators': 150}\n",
      "AdaBoost Accuracy Score on test set 0.87\n"
     ]
    }
   ],
   "source": [
    "LogisticRegressionCl(X_train, X_test, y_train, y_test)\n",
    "print()\n",
    "SVMCl(X_train, X_test, y_train, y_test)\n",
    "print()\n",
    "RandomForestCl(X_train, X_test, y_train, y_test)\n",
    "print()\n",
    "AdaBoostCl(X_train, X_test, y_train, y_test)"
   ]
  },
  {
   "cell_type": "markdown",
   "metadata": {
    "collapsed": true
   },
   "source": [
    "## Prepare expense value biased train and test sets"
   ]
  },
  {
   "cell_type": "code",
   "execution_count": 15,
   "metadata": {
    "collapsed": false
   },
   "outputs": [
    {
     "name": "stdout",
     "output_type": "stream",
     "text": [
      "(3242, 9)\n",
      "(4323, 9)\n"
     ]
    }
   ],
   "source": [
    "# Load data into Pandas dataframe\n",
    "datafile = \"datazon_customer_data_4_train.csv\"\n",
    "full_path = os.path.join(\"data\", datafile)\n",
    "df_customers_train = pd.read_csv(full_path)\n",
    "print(df_customers_train.shape)\n",
    "\n",
    "# Load data into Pandas dataframe\n",
    "datafile = \"datazon_customer_data_4_test.csv\"\n",
    "full_path = os.path.join(\"data\", datafile)\n",
    "df_customers_test = pd.read_csv(full_path)\n",
    "print(df_customers.shape)\n",
    "\n",
    "X_train = df_customers_train[['InvoiceNumberYear', 'LastInvoiceMonthNb',\n",
    "                              'MeanLinesPerInvoice', 'MeanAmountPerInvoice',\n",
    "                              'TotalAmountSpent']]\n",
    "y_train = df_customers_train['cluster_k']\n",
    "\n",
    "X_test = df_customers_test[['InvoiceNumberYear', 'LastInvoiceMonthNb',\n",
    "                            'MeanLinesPerInvoice', 'MeanAmountPerInvoice',\n",
    "                            'TotalAmountSpent']]\n",
    "y_test = df_customers_test['cluster_k']\n"
   ]
  },
  {
   "cell_type": "markdown",
   "metadata": {},
   "source": [
    "## Run all algorythms on this set"
   ]
  },
  {
   "cell_type": "code",
   "execution_count": 16,
   "metadata": {
    "collapsed": false
   },
   "outputs": [
    {
     "name": "stdout",
     "output_type": "stream",
     "text": [
      "Non regularized Logistic Regression Accuracy Score on test set 0.84\n",
      "Regularized Logistic Regression best params {'C': 100.0, 'penalty': 'l1'}\n",
      "Regularized Logistic Regression Accuracy Score on test set 0.84\n",
      "\n",
      "SVM classification best params {'C': 0.001}\n",
      "SVM classification Accuracy Score on test set 0.84\n",
      "\n",
      "Random Forest best params {'n_estimators': 1000}\n",
      "Random Forest Accuracy Score on test set 0.85\n",
      "\n",
      "AdaaBoost best params {'learning_rate': 0.01, 'n_estimators': 200}\n",
      "AdaBoost Accuracy Score on test set 0.24\n"
     ]
    }
   ],
   "source": [
    "LogisticRegressionCl(X_train, X_test, y_train, y_test)\n",
    "print()\n",
    "SVMCl(X_train, X_test, y_train, y_test)\n",
    "print()\n",
    "RandomForestCl(X_train, X_test, y_train, y_test)\n",
    "print()\n",
    "AdaBoostCl(X_train, X_test, y_train, y_test)"
   ]
  },
  {
   "cell_type": "code",
   "execution_count": null,
   "metadata": {
    "collapsed": true
   },
   "outputs": [],
   "source": []
  }
 ],
 "metadata": {
  "kernelspec": {
   "display_name": "Python 3",
   "language": "python",
   "name": "python3"
  },
  "language_info": {
   "codemirror_mode": {
    "name": "ipython",
    "version": 3
   },
   "file_extension": ".py",
   "mimetype": "text/x-python",
   "name": "python",
   "nbconvert_exporter": "python",
   "pygments_lexer": "ipython3",
   "version": "3.6.0"
  }
 },
 "nbformat": 4,
 "nbformat_minor": 2
}
